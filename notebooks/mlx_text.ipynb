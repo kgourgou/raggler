{
 "cells": [
  {
   "cell_type": "code",
   "execution_count": 5,
   "id": "7b0136f1",
   "metadata": {},
   "outputs": [],
   "source": [
    "from src.mlx_llm import MLXLLM"
   ]
  },
  {
   "cell_type": "code",
   "execution_count": 2,
   "id": "1812519d",
   "metadata": {},
   "outputs": [],
   "source": [
    "import glob "
   ]
  },
  {
   "cell_type": "code",
   "execution_count": null,
   "id": "33c5841f",
   "metadata": {},
   "outputs": [],
   "source": []
  },
  {
   "cell_type": "code",
   "execution_count": null,
   "id": "418d7dd7",
   "metadata": {},
   "outputs": [],
   "source": []
  }
 ],
 "metadata": {
  "kernelspec": {
   "display_name": "Python 3",
   "language": "python",
   "name": "python3"
  },
  "language_info": {
   "codemirror_mode": {
    "name": "ipython",
    "version": 3
   },
   "file_extension": ".py",
   "mimetype": "text/x-python",
   "name": "python",
   "nbconvert_exporter": "python",
   "pygments_lexer": "ipython3",
   "version": "3.11.7"
  }
 },
 "nbformat": 4,
 "nbformat_minor": 5
}

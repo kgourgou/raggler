{
 "cells": [
  {
   "cell_type": "code",
   "execution_count": 1,
   "id": "e52e4e0f",
   "metadata": {},
   "outputs": [],
   "source": [
    "%load_ext autoreload\n",
    "%autoreload 2"
   ]
  },
  {
   "cell_type": "code",
   "execution_count": 1,
   "id": "b6f822ac",
   "metadata": {},
   "outputs": [],
   "source": [
    "import logging\n",
    "logging.basicConfig(level=logging.INFO)"
   ]
  },
  {
   "cell_type": "code",
   "execution_count": 2,
   "id": "5317a394",
   "metadata": {},
   "outputs": [
    {
     "name": "stderr",
     "output_type": "stream",
     "text": [
      "INFO:sentence_transformers.SentenceTransformer:Load pretrained SentenceTransformer: paraphrase-albert-small-v2\n",
      "INFO:sentence_transformers.SentenceTransformer:Use pytorch device_name: mps\n"
     ]
    }
   ],
   "source": [
    "from raggler.rag import create_index\n",
    "from sentence_transformers import SentenceTransformer\n",
    "\n",
    "from raggler.rag import RAG\n",
    "\n",
    "from raggler.indexes import NPIndex\n",
    "from raggler.mlx_llm import MLXLLM\n",
    "from raggler.llm_context import RAG_TEMPLATE\n",
    "\n",
    "\n",
    "model = SentenceTransformer('paraphrase-albert-small-v2')\n",
    "\n",
    "try: \n",
    "    index = NPIndex()\n",
    "    index.load('../data/indexes/')\n",
    "except Exception:\n",
    "    index  = create_index(['/Users/kostis/Library/Mobile Documents/iCloud~md~obsidian/Documents'], embedder=model, path_to_save_index='../tests/test_index/')\n",
    "    index.save('../data/indexes/')"
   ]
  },
  {
   "cell_type": "code",
   "execution_count": 3,
   "id": "2f6a38fc",
   "metadata": {},
   "outputs": [
    {
     "name": "stderr",
     "output_type": "stream",
     "text": [
      "INFO:sentence_transformers.SentenceTransformer:Load pretrained SentenceTransformer: paraphrase-albert-small-v2\n",
      "INFO:sentence_transformers.SentenceTransformer:Use pytorch device_name: mps\n",
      "INFO:raggler.mlx_llm:Loading model from data/models/mlx-community/NeuralBeagle14-7B-4bit-mlx\n"
     ]
    }
   ],
   "source": [
    "\n",
    "model = SentenceTransformer('paraphrase-albert-small-v2')\n",
    "\n",
    "test = MLXLLM(\"mlx-community/NeuralBeagle14-7B-4bit-mlx\", prompt_template=RAG_TEMPLATE)\n",
    "\n",
    "\n",
    "rag = RAG(embedder=model, index = index, language_model=test)"
   ]
  },
  {
   "cell_type": "code",
   "execution_count": 7,
   "id": "09d88556",
   "metadata": {},
   "outputs": [
    {
     "data": {
      "application/vnd.jupyter.widget-view+json": {
       "model_id": "f51b0fce156d43b6b7300a64ba136e76",
       "version_major": 2,
       "version_minor": 0
      },
      "text/plain": [
       "Batches:   0%|          | 0/1 [00:00<?, ?it/s]"
      ]
     },
     "metadata": {},
     "output_type": "display_data"
    },
    {
     "name": "stdout",
     "output_type": "stream",
     "text": [
      "==========\n",
      "Prompt: You are a helpful, respectful and honest assistant. Always answer as helpfully as possible using the context text provided. Your answers should only answer the question once and not have any text after the answer is done.\n",
      "\n",
      "If a question does not make any sense, or is not factually coherent, explain why instead of answering something not correct. If you don't know the answer to a question, please don't share false information.\n",
      "\n",
      "CONTEXT:\n",
      "\n",
      "At its core, CUPED is a proposal for how to use pre-experiment data with control variates to reduce the variance of the ATE estimator. The authors propose using any covariates that we have before the experiment took place, $X_i$, $i=1,\\ldots, n$, as well as past values of $Y$ to fit a linear model:\n",
      "$$\\hat{Y}=X\\beta +\\epsilon$$ You can find implementations of [CUPED and CUPAC in this notebook](https://github.com/kgourgou/cupac_cuped_control_variates/blob/main/cuped_cupac.ipynb).\n",
      "\n",
      "CUPED stands for \"Controlled-Experiment using Pre-experiment data\"; see Deng, Xu, Kohavi, Walker, 2013.\n",
      "\n",
      "Question: Explain CUPED please.\n",
      "\n",
      "Answer:\n",
      "\n",
      "CUDED, or CUPED (Controlled-Experiment using Pre-experiment Data), is a method proposed in 2013 by Deng, Xu, Kohavi, and Walker to reduce the variance of the Average Treatment Effect (ATE) estimator in an experiment. It does this by utilizing pre-existing data, specifically covariates ($X_i$) and past values of the outcome variable ($Y$) before the experiment began.\n",
      "\n",
      "The approach involves fitting a linear model to predict the outcome variable ($Y$) using the available pre-experiment data:\n",
      "$$\\hat{Y} = X\\beta + \\epsilon$$\n",
      "\n",
      "This model, known as the control variate, is used to adjust the treatment effect estimation in the experiment. By incorporating the control variate, CUPED aims to improve the precision of the ATE estimator, leading to more reliable and accurate results.\n",
      "\n",
      "You can find implementations of CUPED and its related method, CUPAC, in the provided notebook link.\n",
      "\n",
      "Overall, CUPED is a technique that leverages pre-experiment data to enhance the accuracy of treatment effect estimation in controlled experiments.\n",
      "==========\n",
      "Prompt: 135.273 tokens-per-sec\n",
      "Generation: 18.421 tokens-per-sec\n"
     ]
    },
    {
     "data": {
      "text/plain": [
       "'CUDED, or CUPED (Controlled-Experiment using Pre-experiment Data), is a method proposed in 2013 by Deng, Xu, Kohavi, and Walker to reduce the variance of the Average Treatment Effect (ATE) estimator in an experiment. It does this by utilizing pre-existing data, specifically covariates ($X_i$) and past values of the outcome variable ($Y$) before the experiment began.\\n\\nThe approach involves fitting a linear model to predict the outcome variable ($Y$) using the available pre-experiment data:\\n$$\\\\hat{Y} = X\\\\beta + \\\\epsilon$$\\n\\nThis model, known as the control variate, is used to adjust the treatment effect estimation in the experiment. By incorporating the control variate, CUPED aims to improve the precision of the ATE estimator, leading to more reliable and accurate results.\\n\\nYou can find implementations of CUPED and its related method, CUPAC, in the provided notebook link.\\n\\nOverall, CUPED is a technique that leverages pre-experiment data to enhance the accuracy of treatment effect estimation in controlled experiments.'"
      ]
     },
     "execution_count": 7,
     "metadata": {},
     "output_type": "execute_result"
    }
   ],
   "source": [
    "rag('Explain CUPED please.')"
   ]
  },
  {
   "cell_type": "code",
   "execution_count": null,
   "id": "b321d399",
   "metadata": {},
   "outputs": [],
   "source": []
  }
 ],
 "metadata": {
  "kernelspec": {
   "display_name": "Python 3 (ipykernel)",
   "language": "python",
   "name": "python3"
  },
  "language_info": {
   "codemirror_mode": {
    "name": "ipython",
    "version": 3
   },
   "file_extension": ".py",
   "mimetype": "text/x-python",
   "name": "python",
   "nbconvert_exporter": "python",
   "pygments_lexer": "ipython3",
   "version": "3.11.7"
  }
 },
 "nbformat": 4,
 "nbformat_minor": 5
}

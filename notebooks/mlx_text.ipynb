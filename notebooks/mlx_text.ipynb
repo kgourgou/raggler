{
 "cells": [
  {
   "cell_type": "code",
   "execution_count": 1,
   "id": "e52e4e0f",
   "metadata": {},
   "outputs": [],
   "source": [
    "%load_ext autoreload\n",
    "%autoreload 2"
   ]
  },
  {
   "cell_type": "code",
   "execution_count": 1,
   "id": "5317a394",
   "metadata": {},
   "outputs": [],
   "source": [
    "#import logging \n",
    "#logging.basicConfig(level=logging.INFO)\n",
    "\n",
    "from sentence_transformers import SentenceTransformer\n",
    "from raggler.rag import create_index\n",
    "\n",
    "\n",
    "model = SentenceTransformer('paraphrase-albert-small-v2')\n",
    "\n",
    "index  = create_index(['/Users/kostis/Library/Mobile Documents/iCloud~md~obsidian/Documents'], embedder=model, path_to_save_index='../tests/test_index/')"
   ]
  },
  {
   "cell_type": "code",
   "execution_count": 2,
   "id": "2f6a38fc",
   "metadata": {},
   "outputs": [
    {
     "data": {
      "application/vnd.jupyter.widget-view+json": {
       "model_id": "c00263a546b6427aba8decbdeef8dd7b",
       "version_major": 2,
       "version_minor": 0
      },
      "text/plain": [
       "Fetching 6 files:   0%|          | 0/6 [00:00<?, ?it/s]"
      ]
     },
     "metadata": {},
     "output_type": "display_data"
    }
   ],
   "source": [
    "from sentence_transformers import SentenceTransformer\n",
    "\n",
    "from raggler.rag import RAG\n",
    "\n",
    "from raggler.mlx_llm import MLXLLM\n",
    "from raggler.llm_context import RAG_TEMPLATE\n",
    "model = SentenceTransformer('paraphrase-albert-small-v2')\n",
    "\n",
    "test = MLXLLM(\"mlx-community/NeuralBeagle14-7B-4bit-mlx\", prompt_template=RAG_TEMPLATE)\n",
    "\n",
    "\n",
    "rag = RAG(embedder=model, index = index, language_model=test)"
   ]
  },
  {
   "cell_type": "markdown",
   "id": "24ac4e1c",
   "metadata": {},
   "source": []
  },
  {
   "cell_type": "code",
   "execution_count": 3,
   "id": "09d88556",
   "metadata": {},
   "outputs": [
    {
     "name": "stdout",
     "output_type": "stream",
     "text": [
      "context: The first case is expected; If the two distributions are equal, then the RE is zero. But the second is a bit cooler. The two distributions can be different, but in the presence of a lot of variance (i.e a lot of noise), the RE quantifies the loss of information as small. In the example below \n",
      "\n",
      "$$\n",
      "R(q|p)\\simeq 10^{-7},\n",
      "$$\n",
      "\n",
      "even though the distributions are substantially different. Using sample-mean and sample-variance is a bad idea; one outlier can change those statistics significantly. However it cannot change the median / MAD that much (as it is more robust).\n",
      "\n",
      "![[Screenshot 2024-02-25 at 12.46.06.png]]\n",
      "\n",
      "MAD is median absolute deviation.\n",
      "$$\\text{MAD}=\\text{median}\\left(|X_i-\\text{median}(X_1, \\ldots, X_n)\\right).$$\n",
      "The rest of the slides discuss the multivariate cases and assumptions; there's a bunch of methods that are applicable.\n",
      "----------------------------------------------------------------------------------------------------\n",
      "\n",
      "While the given context does not provide a specific method to recover a noisy Gaussian distribution using median statistics, it does highlight that median and median absolute deviation (MAD) are more robust to outliers compared to sample mean and variance. This means that in the presence of noise or outliers, the median and MAD can better represent the central tendency and dispersion of the data, respectively, compared to the mean and variance.\n",
      "\n",
      "To recover a noisy Gaussian distribution, one could use techniques such as robust regression or nonparametric density estimation methods that take advantage of the robustness of median and MAD statistics. These methods can help estimate the underlying distribution and its parameters (e.g., mean and variance) in the presence of noise and outliers. However, the specific approach or algorithm to recover a noise Gaussian using median statistics is not provided in the given context.\n"
     ]
    },
    {
     "data": {
      "text/plain": [
       "'While the given context does not provide a specific method to recover a noisy Gaussian distribution using median statistics, it does highlight that median and median absolute deviation (MAD) are more robust to outliers compared to sample mean and variance. This means that in the presence of noise or outliers, the median and MAD can better represent the central tendency and dispersion of the data, respectively, compared to the mean and variance.\\n\\nTo recover a noisy Gaussian distribution, one could use techniques such as robust regression or nonparametric density estimation methods that take advantage of the robustness of median and MAD statistics. These methods can help estimate the underlying distribution and its parameters (e.g., mean and variance) in the presence of noise and outliers. However, the specific approach or algorithm to recover a noise Gaussian using median statistics is not provided in the given context.'"
      ]
     },
     "execution_count": 3,
     "metadata": {},
     "output_type": "execute_result"
    }
   ],
   "source": [
    "rag('How can recover a noise gaussian by using median statistics?', print_context=True)"
   ]
  }
 ],
 "metadata": {
  "kernelspec": {
   "display_name": "Python 3 (ipykernel)",
   "language": "python",
   "name": "python3"
  },
  "language_info": {
   "codemirror_mode": {
    "name": "ipython",
    "version": 3
   },
   "file_extension": ".py",
   "mimetype": "text/x-python",
   "name": "python",
   "nbconvert_exporter": "python",
   "pygments_lexer": "ipython3",
   "version": "3.11.7"
  }
 },
 "nbformat": 4,
 "nbformat_minor": 5
}

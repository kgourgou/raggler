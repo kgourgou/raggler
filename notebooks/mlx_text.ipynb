{
 "cells": [
  {
   "cell_type": "code",
   "execution_count": 1,
   "id": "e52e4e0f",
   "metadata": {},
   "outputs": [],
   "source": [
    "%load_ext autoreload\n",
    "%autoreload 2"
   ]
  },
  {
   "cell_type": "code",
   "execution_count": 1,
   "id": "b6f822ac",
   "metadata": {},
   "outputs": [],
   "source": [
    "import logging\n",
    "logging.basicConfig(level=logging.INFO)"
   ]
  },
  {
   "cell_type": "code",
   "execution_count": 2,
   "id": "5317a394",
   "metadata": {},
   "outputs": [
    {
     "name": "stderr",
     "output_type": "stream",
     "text": [
      "INFO:sentence_transformers.SentenceTransformer:Load pretrained SentenceTransformer: paraphrase-albert-small-v2\n",
      "INFO:sentence_transformers.SentenceTransformer:Use pytorch device_name: mps\n"
     ]
    }
   ],
   "source": [
    "from raggler.rag import create_index\n",
    "from sentence_transformers import SentenceTransformer\n",
    "\n",
    "from raggler.rag import RAG\n",
    "\n",
    "from raggler.indexes import NPIndex\n",
    "from raggler.mlx_llm import MLXLLM\n",
    "from raggler.llm_context import RAG_TEMPLATE\n",
    "\n",
    "\n",
    "model = SentenceTransformer('paraphrase-albert-small-v2')\n",
    "\n",
    "try: \n",
    "    index = NPIndex()\n",
    "    index.load('../data/indexes/')\n",
    "except Exception:\n",
    "    index  = create_index(['/Users/kostis/Library/Mobile Documents/iCloud~md~obsidian/Documents'], embedder=model, path_to_save_index='../tests/test_index/')\n",
    "    index.save('../data/indexes/')"
   ]
  },
  {
   "cell_type": "code",
   "execution_count": 3,
   "id": "2f6a38fc",
   "metadata": {},
   "outputs": [
    {
     "name": "stderr",
     "output_type": "stream",
     "text": [
      "INFO:sentence_transformers.SentenceTransformer:Load pretrained SentenceTransformer: paraphrase-albert-small-v2\n",
      "INFO:sentence_transformers.SentenceTransformer:Use pytorch device_name: mps\n",
      "INFO:raggler.mlx_llm:Loading model from data/models/mlx-community/NeuralBeagle14-7B-4bit-mlx\n"
     ]
    }
   ],
   "source": [
    "\n",
    "model = SentenceTransformer('paraphrase-albert-small-v2')\n",
    "\n",
    "test = MLXLLM(\"mlx-community/NeuralBeagle14-7B-4bit-mlx\", prompt_template=RAG_TEMPLATE)\n",
    "\n",
    "\n",
    "rag = RAG(embedder=model, index = index, language_model=test)"
   ]
  },
  {
   "cell_type": "code",
   "execution_count": 4,
   "id": "09d88556",
   "metadata": {},
   "outputs": [
    {
     "data": {
      "application/vnd.jupyter.widget-view+json": {
       "model_id": "cfb86ff861cd44c4998538d3b181bebc",
       "version_major": 2,
       "version_minor": 0
      },
      "text/plain": [
       "Batches:   0%|          | 0/1 [00:00<?, ?it/s]"
      ]
     },
     "metadata": {},
     "output_type": "display_data"
    },
    {
     "name": "stdout",
     "output_type": "stream",
     "text": [
      "context: ## Actual lower bound\n",
      "\n",
      "The lower bound is:\n",
      "$$\n",
      "KL(P|Q)\\geq \\int_0^1\\frac{(E_{R_t}-E_P)^2}{tV_{R_t}}dt,\n",
      "$$\n",
      "where the integral depends on $E_P, E_Q, V_P, V_Q$ and can be computed analytically and written as a sum of logarithms (by using partial fractions). \n",
      "\n",
      "\n",
      "\n",
      "# Tighter lower-bounds $$\n",
      "P\\left\\{\\left\\{(x_1,\\ldots,x_n):\\left|-\\frac{1}{n}\\log(P(X_1,\\ldots,X_n))-H(X)\\right|\\geq \\epsilon_1\\right\\}\\right\\}<\\epsilon_2.\n",
      "$$\n",
      "\n",
      "Proof of this fact is based on the weak law of large numbers and it's not difficult to imagine.\n",
      "\n",
      "link: [Inclusion - Exclusion for set functions.md](Inclusion - Exclusion for set functions.md)\n",
      "link: [Hadamard-Fourier Expansion.md](Hadamard-Fourier Expansion.md)\n",
      "\n",
      "##### links\n",
      "----------------------------------------------------------------------------------------------------\n",
      "\n",
      "==========\n",
      "Prompt: You are a helpful, respectful and honest assistant. Always answer as helpfully as possible using the context text provided. Your answers should only answer the question once and not have any text after the answer is done.\n",
      "\n",
      "If a question does not make any sense, or is not factually coherent, explain why instead of answering something not correct. If you don't know the answer to a question, please don't share false information.\n",
      "\n",
      "CONTEXT:\n",
      "\n",
      "## Actual lower bound\n",
      "\n",
      "The lower bound is:\n",
      "$$\n",
      "KL(P|Q)\\geq \\int_0^1\\frac{(E_{R_t}-E_P)^2}{tV_{R_t}}dt,\n",
      "$$\n",
      "where the integral depends on $E_P, E_Q, V_P, V_Q$ and can be computed analytically and written as a sum of logarithms (by using partial fractions). \n",
      "\n",
      "\n",
      "\n",
      "# Tighter lower-bounds $$\n",
      "P\\left\\{\\left\\{(x_1,\\ldots,x_n):\\left|-\\frac{1}{n}\\log(P(X_1,\\ldots,X_n))-H(X)\\right|\\geq \\epsilon_1\\right\\}\\right\\}<\\epsilon_2.\n",
      "$$\n",
      "\n",
      "Proof of this fact is based on the weak law of large numbers and it's not difficult to imagine.\n",
      "\n",
      "link: [Inclusion - Exclusion for set functions.md](Inclusion - Exclusion for set functions.md)\n",
      "link: [Hadamard-Fourier Expansion.md](Hadamard-Fourier Expansion.md)\n",
      "\n",
      "##### links\n",
      "\n",
      "Question: Tell me a cool math fact about upper bounds.\n",
      "\n",
      "Answer:\n",
      "\n",
      "Upper bounds often provide a maximum value or limit that a function, sequence, or set can attain. They are used in various mathematical proofs and theorems to establish conditions or constraints. One cool fact about upper bounds is that they can be used to prove the existence of an optimal solution in optimization problems. For example, in the field of convex optimization, the Weierstrass theorem states that a continuous real-valued function defined on a compact convex set in a Euclidean space attains its minimum value at some point in the set. This theorem relies on the concept of an upper bound, which helps establish the existence of an optimal solution.\n",
      "\n",
      "In another context, the pigeonhole principle is a simple but powerful combinatorial result that states, in its basic form, that if you put n objects into m containers, with n > m, then at least one container must contain two or more objects. This principle can be used to prove upper bounds on the number of objects that can be distributed into a fixed number of containers while ensuring that no container has too many objects. This fact highlights the importance of upper bounds in understanding and controlling the behavior of mathematical objects.\n",
      "==========\n",
      "Prompt: 112.876 tokens-per-sec\n",
      "Generation: 23.042 tokens-per-sec\n"
     ]
    },
    {
     "data": {
      "text/plain": [
       "'Upper bounds often provide a maximum value or limit that a function, sequence, or set can attain. They are used in various mathematical proofs and theorems to establish conditions or constraints. One cool fact about upper bounds is that they can be used to prove the existence of an optimal solution in optimization problems. For example, in the field of convex optimization, the Weierstrass theorem states that a continuous real-valued function defined on a compact convex set in a Euclidean space attains its minimum value at some point in the set. This theorem relies on the concept of an upper bound, which helps establish the existence of an optimal solution.\\n\\nIn another context, the pigeonhole principle is a simple but powerful combinatorial result that states, in its basic form, that if you put n objects into m containers, with n > m, then at least one container must contain two or more objects. This principle can be used to prove upper bounds on the number of objects that can be distributed into a fixed number of containers while ensuring that no container has too many objects. This fact highlights the importance of upper bounds in understanding and controlling the behavior of mathematical objects.'"
      ]
     },
     "execution_count": 4,
     "metadata": {},
     "output_type": "execute_result"
    }
   ],
   "source": [
    "rag('Tell me a cool math fact about upper bounds.', show_context = True)"
   ]
  }
 ],
 "metadata": {
  "kernelspec": {
   "display_name": "Python 3 (ipykernel)",
   "language": "python",
   "name": "python3"
  },
  "language_info": {
   "codemirror_mode": {
    "name": "ipython",
    "version": 3
   },
   "file_extension": ".py",
   "mimetype": "text/x-python",
   "name": "python",
   "nbconvert_exporter": "python",
   "pygments_lexer": "ipython3",
   "version": "3.11.7"
  }
 },
 "nbformat": 4,
 "nbformat_minor": 5
}

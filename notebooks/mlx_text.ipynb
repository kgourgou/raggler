{
 "cells": [
  {
   "cell_type": "code",
   "execution_count": 1,
   "id": "e52e4e0f",
   "metadata": {},
   "outputs": [],
   "source": [
    "%load_ext autoreload\n",
    "%autoreload 2"
   ]
  },
  {
   "cell_type": "code",
   "execution_count": 5,
   "id": "5317a394",
   "metadata": {},
   "outputs": [
    {
     "data": {
      "application/vnd.jupyter.widget-view+json": {
       "model_id": "abefea6590964e0ea41f7697a83283db",
       "version_major": 2,
       "version_minor": 0
      },
      "text/plain": [
       "Fetching 6 files:   0%|          | 0/6 [00:00<?, ?it/s]"
      ]
     },
     "metadata": {},
     "output_type": "display_data"
    },
    {
     "data": {
      "application/vnd.jupyter.widget-view+json": {
       "model_id": "a46dec18298f41679d2a1e7d32bf24f4",
       "version_major": 2,
       "version_minor": 0
      },
      "text/plain": [
       "  0%|          | 0/1 [00:00<?, ?it/s]"
      ]
     },
     "metadata": {},
     "output_type": "display_data"
    },
    {
     "data": {
      "application/vnd.jupyter.widget-view+json": {
       "model_id": "f3f673b7bc634d65806b5bf8e3e28b35",
       "version_major": 2,
       "version_minor": 0
      },
      "text/plain": [
       "Looking into files ...:   0%|          | 0/2 [00:00<?, ?it/s]"
      ]
     },
     "metadata": {},
     "output_type": "display_data"
    },
    {
     "data": {
      "application/vnd.jupyter.widget-view+json": {
       "model_id": "70e679c179924db587d0ae8dde486ead",
       "version_major": 2,
       "version_minor": 0
      },
      "text/plain": [
       "Looking into files ...:   0%|          | 0/2 [00:00<?, ?it/s]"
      ]
     },
     "metadata": {},
     "output_type": "display_data"
    },
    {
     "data": {
      "application/vnd.jupyter.widget-view+json": {
       "model_id": "9ad841d6881544698824d3f017ce0ce5",
       "version_major": 2,
       "version_minor": 0
      },
      "text/plain": [
       "Looking into files ...:   0%|          | 0/1 [00:00<?, ?it/s]"
      ]
     },
     "metadata": {},
     "output_type": "display_data"
    }
   ],
   "source": [
    "import os\n",
    "from sentence_transformers import SentenceTransformer\n",
    "from raggler import RAG, create_index\n",
    "from raggler.indexes import NPIndex\n",
    "from raggler.mlx_llm import MLXLLM\n",
    "from raggler.llm_context import RAG_TEMPLATE\n",
    "from dotenv import load_dotenv\n",
    "\n",
    "load_dotenv()\n",
    "path_to_files = os.getenv(\"RAGGLER_DIR\") or '../tests/fake_files/'\n",
    "\n",
    "embedder = SentenceTransformer(\"paraphrase-albert-small-v2\")\n",
    "lm = MLXLLM(\"mlx-community/NeuralBeagle14-7B-4bit-mlx\", prompt_template=RAG_TEMPLATE)\n",
    "\n",
    "\n",
    "try:\n",
    "    index = NPIndex()\n",
    "    index.load(\"../data/indexes/\")\n",
    "except Exception:\n",
    "    index = create_index(\n",
    "        [path_to_files], embedder=embedder\n",
    "    )"
   ]
  },
  {
   "cell_type": "code",
   "execution_count": 6,
   "id": "2f6a38fc",
   "metadata": {},
   "outputs": [],
   "source": [
    "rag = RAG(embedder=embedder, index=index, language_model=lm)"
   ]
  },
  {
   "cell_type": "code",
   "execution_count": 7,
   "id": "09d88556",
   "metadata": {},
   "outputs": [
    {
     "data": {
      "text/plain": [
       "\"To find a quadratic equation in cos 2x with the same roots as the given equation (acos 2x + bcos x + c = 0) with a = 4, b = 2, and c = -1, we can use the trigonometric identity cos 2x = 2cos^2 x - 1.\\n\\nLet's substitute this identity into the given equation and rearrange terms:\\n\\n4(2cos^2 x - 1)cos x + 2cos x - 1 = 0\\n\\nSimplifying, we get:\\n\\n8cos^3 x - 8cos x + 2cos x - 1 = 0\\n\\nCombining like terms:\\n\\n9cos^3 x - 10cos x - 1 = 0\\n\\nThis is the desired quadratic equation in cos 2x, as it has the same roots as the original equation when we substitute cos 2x = 2cos^2 x - 1 back into this equation.\\n\\nNow, compare the equations in cos x and cos 2x:\\n\\nOriginal equation: 4cos 2x + 2cos x - 1 = 0\\nNew equation: 9cos^3 x - 10cos x - 1 = 0 (after substitution)\\n\\nThese two equations are not the same, as the given problem asked for a different set of values for a, b, and c (a = 1959/4, b = 2, and c = -1). The problem statement seems to have an error or incomplete information. Please provide the correct values for a, b, and c to generate the desired equation.\""
      ]
     },
     "execution_count": 7,
     "metadata": {},
     "output_type": "execute_result"
    }
   ],
   "source": [
    "rag(\"Give me a math problem.\")"
   ]
  },
  {
   "cell_type": "code",
   "execution_count": null,
   "id": "b321d399",
   "metadata": {},
   "outputs": [],
   "source": []
  }
 ],
 "metadata": {
  "kernelspec": {
   "display_name": "Python 3 (ipykernel)",
   "language": "python",
   "name": "python3"
  },
  "language_info": {
   "codemirror_mode": {
    "name": "ipython",
    "version": 3
   },
   "file_extension": ".py",
   "mimetype": "text/x-python",
   "name": "python",
   "nbconvert_exporter": "python",
   "pygments_lexer": "ipython3",
   "version": "3.11.7"
  }
 },
 "nbformat": 4,
 "nbformat_minor": 5
}

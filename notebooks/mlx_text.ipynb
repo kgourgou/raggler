{
 "cells": [
  {
   "cell_type": "code",
   "execution_count": 1,
   "id": "e52e4e0f",
   "metadata": {},
   "outputs": [],
   "source": [
    "%load_ext autoreload\n",
    "%autoreload 2"
   ]
  },
  {
   "cell_type": "code",
   "execution_count": 3,
   "id": "5317a394",
   "metadata": {},
   "outputs": [],
   "source": [
    "import os\n",
    "from sentence_transformers import SentenceTransformer\n",
    "from raggler import RAG, create_index\n",
    "from raggler.indexes import NPIndex\n",
    "from raggler.mlx_llm import MLXLLM\n",
    "from raggler.llm_context import RAG_TEMPLATE\n",
    "from dotenv import load_dotenv\n",
    "\n",
    "load_dotenv()\n",
    "path_to_files = os.getenv(\"RAGGLER_DIR\") or '../tests/test_data/'\n",
    "\n",
    "embedder = SentenceTransformer(\"paraphrase-albert-small-v2\")\n",
    "lm = MLXLLM(\"mlx-community/NeuralBeagle14-7B-4bit-mlx\", prompt_template=RAG_TEMPLATE)\n",
    "\n",
    "\n",
    "try:\n",
    "    index = NPIndex()\n",
    "    index.load(\"../data/indexes/\")\n",
    "except Exception:\n",
    "    index = create_index(\n",
    "        [path_to_files], embedder=embedder\n",
    "    )"
   ]
  },
  {
   "cell_type": "code",
   "execution_count": 4,
   "id": "2f6a38fc",
   "metadata": {},
   "outputs": [],
   "source": [
    "rag = RAG(embedder=embedder, index=index, language_model=lm)"
   ]
  },
  {
   "cell_type": "code",
   "execution_count": 5,
   "id": "09d88556",
   "metadata": {},
   "outputs": [
    {
     "name": "stdout",
     "output_type": "stream",
     "text": [
      "==========\n",
      "Prompt: You are a helpful, respectful and honest assistant. Always answer as helpfully as possible using the context text provided. Your answers should only answer the question once and not have any text after the answer is done.\n",
      "\n",
      "If a question does not make any sense, or is not factually coherent, explain why instead of answering something not correct. If you don't know the answer to a question, please don't share false information.\n",
      "\n",
      "CONTEXT:\n",
      "\n",
      "At its core, CUPED is a proposal for how to use pre-experiment data with control variates to reduce the variance of the ATE estimator. The authors propose using any covariates that we have before the experiment took place, $X_i$, $i=1,\\ldots, n$, as well as past values of $Y$ to fit a linear model: ### CUPED and CUPAC\n",
      "\n",
      "You can find implementations of [CUPED and CUPAC in this notebook](https://github.com/kgourgou/cupac_cuped_control_variates/blob/main/cuped_cupac.ipynb).\n",
      "\n",
      "CUPED stands for \"Controlled-Experiment using Pre-experiment data\"; see Deng, Xu, Kohavi, Walker, 2013.\n",
      "\n",
      "Question: Explain CUPED please.\n",
      "\n",
      "Answer:\n",
      "\n",
      "CUPED, or \"Controlled-Experiment using Pre-experiment Data,\" is a method proposed by Deng, Xu, Kohavi, and Walker in 2013. It aims to reduce the variance of the ATE (average treatment effect) estimator by utilizing pre-existing data, specifically covariates ($X_i$) and past values of the outcome variable ($Y$) before the experiment took place. The approach involves fitting a linear model using these pre-experiment data to create control variates, which are then used to adjust the ATE estimator. This helps improve the accuracy and precision of the estimated treatment effect.\n",
      "==========\n",
      "Prompt: 140.973 tokens-per-sec\n",
      "Generation: 24.553 tokens-per-sec\n"
     ]
    },
    {
     "data": {
      "text/plain": [
       "'CUPED, or \"Controlled-Experiment using Pre-experiment Data,\" is a method proposed by Deng, Xu, Kohavi, and Walker in 2013. It aims to reduce the variance of the ATE (average treatment effect) estimator by utilizing pre-existing data, specifically covariates ($X_i$) and past values of the outcome variable ($Y$) before the experiment took place. The approach involves fitting a linear model using these pre-experiment data to create control variates, which are then used to adjust the ATE estimator. This helps improve the accuracy and precision of the estimated treatment effect.'"
      ]
     },
     "execution_count": 5,
     "metadata": {},
     "output_type": "execute_result"
    }
   ],
   "source": [
    "rag(\"Explain CUPED please.\")"
   ]
  },
  {
   "cell_type": "code",
   "execution_count": null,
   "id": "b321d399",
   "metadata": {},
   "outputs": [],
   "source": []
  }
 ],
 "metadata": {
  "kernelspec": {
   "display_name": "Python 3 (ipykernel)",
   "language": "python",
   "name": "python3"
  },
  "language_info": {
   "codemirror_mode": {
    "name": "ipython",
    "version": 3
   },
   "file_extension": ".py",
   "mimetype": "text/x-python",
   "name": "python",
   "nbconvert_exporter": "python",
   "pygments_lexer": "ipython3",
   "version": "3.11.7"
  }
 },
 "nbformat": 4,
 "nbformat_minor": 5
}
